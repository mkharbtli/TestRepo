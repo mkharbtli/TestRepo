{
 "cells": [
  {
   "cell_type": "markdown",
   "id": "a0c59fc3-a568-4894-ac7e-4019efb73352",
   "metadata": {},
   "source": [
    "<center>\n",
    "    <img src=\"https://cf-courses-data.s3.us.cloud-object-storage.appdomain.cloud/IBMDeveloperSkillsNetwork-DS0105EN-SkillsNetwork/labs/Module2/images/SN_web_lightmode.png\" width=\"300\" alt=\"cognitiveclass.ai logo\">\n",
    "</center>\n"
   ]
  },
  {
   "cell_type": "markdown",
   "id": "88f5008e-2736-4e09-9abf-3fc2c0f58e0b",
   "metadata": {},
   "source": [
    "# Hands-on Lab: Create your Jupyter Notebook"
   ]
  },
  {
   "cell_type": "markdown",
   "id": "964cf7aa-5e18-485b-ad81-ee262a8caf72",
   "metadata": {},
   "source": [
    "#### Add your code below following the instructions given in the course"
   ]
  },
  {
   "cell_type": "code",
   "execution_count": 12,
   "id": "ee89238a-17fa-4e26-b897-f37ed90dad01",
   "metadata": {},
   "outputs": [],
   "source": [
    "# Exercise 1: Create a Jupyter Notebook"
   ]
  },
  {
   "cell_type": "code",
   "execution_count": 14,
   "id": "b86703b9-3143-4f87-a1c7-10704075a29d",
   "metadata": {},
   "outputs": [],
   "source": [
    "# Exercise 2: Create markdown cell with title of the notebook"
   ]
  },
  {
   "cell_type": "markdown",
   "id": "9d179291-2ed5-47d4-8758-f5b4c3ae686e",
   "metadata": {},
   "source": [
    "# Data Science Tools and Ecosystem"
   ]
  },
  {
   "cell_type": "code",
   "execution_count": 8,
   "id": "f69731e9-e0a1-4774-be5b-7289734a5a5c",
   "metadata": {},
   "outputs": [],
   "source": [
    "#Exercise 3 - Create a markdown cell for an introduction"
   ]
  },
  {
   "cell_type": "markdown",
   "id": "4ca2aaeb-ad17-4df6-8825-fa16762bced1",
   "metadata": {},
   "source": [
    "## In this notebook, Data Science Tools and Ecosystem are summarized."
   ]
  },
  {
   "cell_type": "code",
   "execution_count": 64,
   "id": "6d36489c-e9d2-497a-9b8c-f6e3d30b7444",
   "metadata": {},
   "outputs": [],
   "source": [
    "# Exercise 10 - Insert a markdown cell to list Objectives"
   ]
  },
  {
   "cell_type": "markdown",
   "id": "d2d6b30d-4800-4ff6-abd4-18e95a68ceed",
   "metadata": {},
   "source": [
    "**Objectives:**\n",
    "* List popular languages for Data Science\n",
    "* Describe how to work in a notebook session\n",
    "* Describe R capabilities and RStudio environment."
   ]
  },
  {
   "cell_type": "code",
   "execution_count": 18,
   "id": "ad0564e8-554a-452e-b1ad-64de86517234",
   "metadata": {},
   "outputs": [],
   "source": [
    "# Exercise 4 - Create a markdown cell to list data science languages"
   ]
  },
  {
   "cell_type": "markdown",
   "id": "e9101961-4faa-4745-bcde-fb4c38bb0577",
   "metadata": {},
   "source": [
    "### Some of the popular languages that Data Scientists use are:\n",
    "1. C++\n",
    "2. Java\n",
    "3. Python"
   ]
  },
  {
   "cell_type": "code",
   "execution_count": 31,
   "id": "35ae88f3-38e8-439b-98ed-c3e98b86ae78",
   "metadata": {},
   "outputs": [],
   "source": [
    "# Exercise 5 - Create a markdown cell to list data science libraries"
   ]
  },
  {
   "cell_type": "markdown",
   "id": "7519edb3-7662-48ea-915a-97571fe998a3",
   "metadata": {},
   "source": [
    "### Some of the commonly used libraries used by Data Scientists include:\n",
    "1. Pandas\n",
    "2. TensorFlow\n",
    "3. PyTorch\n",
    "4. Scikit-learn:\n",
    "5. Matplotlib"
   ]
  },
  {
   "cell_type": "code",
   "execution_count": 35,
   "id": "b99d414d-f109-4db2-88a6-70de4711f320",
   "metadata": {},
   "outputs": [],
   "source": [
    "# Exercise 6 - Create a markdown cell with a table of Data Science tools"
   ]
  },
  {
   "cell_type": "markdown",
   "id": "e9081e55-9bf1-4982-a765-65ca20e7d812",
   "metadata": {},
   "source": [
    "| Data Science Tools |\n",
    "|-----------------|\n",
    "| Python |\n",
    "| R |\n",
    "| Git |"
   ]
  },
  {
   "cell_type": "code",
   "execution_count": 41,
   "id": "14e7d43f-d0da-41cd-af6a-b89999321014",
   "metadata": {},
   "outputs": [],
   "source": [
    "# Exercise 7 - Create a markdown cell introducing arithmetic expression examples"
   ]
  },
  {
   "cell_type": "markdown",
   "id": "9c2948e8-9297-4f59-ab01-88a91c0bd5a6",
   "metadata": {},
   "source": [
    "### Below are a few examples of evaluating arithmetic expressions in Python"
   ]
  },
  {
   "cell_type": "code",
   "execution_count": 47,
   "id": "ec1ae523-3408-4995-9515-cdd2cf1ae038",
   "metadata": {},
   "outputs": [
    {
     "name": "stdout",
     "output_type": "stream",
     "text": [
      "5 + 3 = 8\n",
      "10 - 4 = 6\n",
      "6 * 7 = 42\n"
     ]
    }
   ],
   "source": [
    "# Addition\n",
    "result_add = 5 + 3\n",
    "print(f\"5 + 3 = {result_add}\") \n",
    "\n",
    "# Subtraction\n",
    "result_sub = 10 - 4\n",
    "print(f\"10 - 4 = {result_sub}\") \n",
    "\n",
    "# Multiplication\n",
    "result_mul = 6 * 7\n",
    "print(f\"6 * 7 = {result_mul}\")"
   ]
  },
  {
   "cell_type": "code",
   "execution_count": 49,
   "id": "5fbe1c75-9696-4e1d-b39f-74b5e3b65009",
   "metadata": {},
   "outputs": [],
   "source": [
    "# Exercise 8 - Create a code cell to multiply and add numbers"
   ]
  },
  {
   "cell_type": "code",
   "execution_count": 51,
   "id": "7b624d25-ca77-4b63-835e-60dc1c85ba60",
   "metadata": {},
   "outputs": [
    {
     "data": {
      "text/plain": [
       "17"
      ]
     },
     "execution_count": 51,
     "metadata": {},
     "output_type": "execute_result"
    }
   ],
   "source": [
    "# This a simple arithmetic expression to mutiply then add integers\n",
    "(3*4)+5"
   ]
  },
  {
   "cell_type": "code",
   "execution_count": 53,
   "id": "34e02bdb-e4cd-41ba-b0ef-0a7b6ccdf95c",
   "metadata": {},
   "outputs": [],
   "source": [
    "# Exercise 9 - Create a code cell to convert minutes to hours"
   ]
  },
  {
   "cell_type": "code",
   "execution_count": 57,
   "id": "c3864986-56f1-48ca-a9fb-e7559a79bf1a",
   "metadata": {},
   "outputs": [
    {
     "name": "stdout",
     "output_type": "stream",
     "text": [
      "200 / 60 = 3.3333333333333335\n"
     ]
    }
   ],
   "source": [
    "# This will convert 200 minutes to hours by diving by 60\n",
    "hrs = 200 / 60\n",
    "print(f\"200 / 60 = {hrs}\")"
   ]
  },
  {
   "cell_type": "code",
   "execution_count": 70,
   "id": "8549f28d-6a76-4ea1-9ac5-8d107bc366be",
   "metadata": {},
   "outputs": [],
   "source": [
    "#Exercise 11 - Create a markdown cell to indicate the Author's name"
   ]
  },
  {
   "cell_type": "markdown",
   "id": "4bd06dbe-34f2-49fa-aebe-ddb660bc9067",
   "metadata": {},
   "source": [
    "### Author \n",
    "Mohammed Kharbatli"
   ]
  },
  {
   "cell_type": "markdown",
   "id": "6fdc5ff2-793c-4abf-b4f1-f572f895d304",
   "metadata": {},
   "source": [
    "Copyright ©2024 IBM Corporation. All rights reserved."
   ]
  },
  {
   "cell_type": "code",
   "execution_count": null,
   "id": "e20914a3-abee-4616-8c3d-e638b1a14e70",
   "metadata": {},
   "outputs": [],
   "source": []
  }
 ],
 "metadata": {
  "kernelspec": {
   "display_name": "Python [conda env:base]",
   "language": "python",
   "name": "conda-base-py"
  },
  "language_info": {
   "codemirror_mode": {
    "name": "ipython",
    "version": 3
   },
   "file_extension": ".py",
   "mimetype": "text/x-python",
   "name": "python",
   "nbconvert_exporter": "python",
   "pygments_lexer": "ipython3",
   "version": "3.10.9"
  }
 },
 "nbformat": 4,
 "nbformat_minor": 5
}
